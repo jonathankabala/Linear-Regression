{
 "cells": [
  {
   "cell_type": "markdown",
   "metadata": {},
   "source": [
    "# Linear Regression with Numpy"
   ]
  },
  {
   "cell_type": "code",
   "execution_count": 1,
   "metadata": {},
   "outputs": [],
   "source": [
    "import numpy as np\n",
    "import matplotlib.pyplot as plt"
   ]
  },
  {
   "cell_type": "code",
   "execution_count": 2,
   "metadata": {},
   "outputs": [],
   "source": [
    "# Load data (column 1: city population in 10,000 and column2: profit in that city in 10,000)\n",
    "\n",
    "data = np.loadtxt(\"data/profit.txt\", dtype='float', delimiter=\",\")"
   ]
  },
  {
   "cell_type": "code",
   "execution_count": 3,
   "metadata": {},
   "outputs": [
    {
     "name": "stdout",
     "output_type": "stream",
     "text": [
      "First 5 rows: \n",
      " [[ 6.1101 17.592 ]\n",
      " [ 5.5277  9.1302]\n",
      " [ 8.5186 13.662 ]\n",
      " [ 7.0032 11.854 ]\n",
      " [ 5.8598  6.8233]]\n",
      "\n",
      "Shape of data: (97, 2)\n"
     ]
    }
   ],
   "source": [
    "# show first n rows\n",
    "# print number of rows and columns\n",
    "\n",
    "number_of_rows = 5\n",
    "print(f\"First {number_of_rows} rows: \\n {data[0:5,:]}\\n\")\n",
    "print(f\"Shape of data: {data.shape}\")"
   ]
  },
  {
   "cell_type": "code",
   "execution_count": 4,
   "metadata": {},
   "outputs": [
    {
     "data": {
      "image/png": "[encoded data removed]",
      "text/plain": [
       "<Figure size 648x432 with 1 Axes>"
      ]
     },
     "metadata": {
      "needs_background": "light"
     },
     "output_type": "display_data"
    }
   ],
   "source": [
    "# Plot the city's population against the profit\n",
    "\n",
    "X = data[:,0]\n",
    "y = data[:,1].reshape(-1,1)\n",
    "\n",
    "figure = plt.figure(figsize=(9, 6))\n",
    "plt.scatter(X, y)\n",
    "plt.xlabel(\"Population of City in 10,000s\")\n",
    "plt.ylabel(\"Profits in $10,000s\")\n",
    "plt.show()"
   ]
  },
  {
   "cell_type": "code",
   "execution_count": 5,
   "metadata": {},
   "outputs": [
    {
     "name": "stdout",
     "output_type": "stream",
     "text": [
      "Feature matrix (shape: (97, 2)): \n",
      " [[1.     6.1101]\n",
      " [1.     5.5277]\n",
      " [1.     8.5186]\n",
      " [1.     7.0032]\n",
      " [1.     5.8598]] \n",
      "\n",
      "theta vector (shape: (2, 1)): \n",
      " [[0.]\n",
      " [0.]]\n"
     ]
    }
   ],
   "source": [
    "m = X.shape[0] # get the number of features (training examples)\n",
    "X = np.concatenate((np.ones((m, 1)), data[:,0].reshape(-1,1)), axis=1) # Add a columns of 1 for the bias term\n",
    "print(f\"Feature matrix (shape: {X.shape}): \\n {X[0:number_of_rows, :]} \\n\") # print the new X matrix\n",
    "\n",
    "theta = np.zeros((2,1)) # Initialize the theta matrix with zeros\n",
    "print(f\"theta vector (shape: {theta.shape}): \\n {theta}\")\n"
   ]
  },
  {
   "cell_type": "markdown",
   "metadata": {},
   "source": [
    "### Compute the Cost Function J($\\theta$)"
   ]
  },
  {
   "cell_type": "code",
   "execution_count": 6,
   "metadata": {},
   "outputs": [],
   "source": [
    "def compute_cost(X, y, theta):\n",
    "    \n",
    "    '''\n",
    "        This function computes the cost function J\n",
    "        Inputs:\n",
    "            X: feature matrix of size (m, n) where m is the number of examples (rows)\n",
    "                and n the number of features (columns)            \n",
    "            y: y lables matrix of size (m, 1) where m is the number of examples            \n",
    "            theta: weight matrix of size (n, 1) where n is the number of weights (which is equal to the number of features)    \n",
    "    '''\n",
    "    \n",
    "    m = X.shape[0]\n",
    "    y_hat = np.dot(X,theta)\n",
    "    squared_errors = np.power((y_hat - y), 2)\n",
    "    \n",
    "    J = np.sum(squared_errors) / (2 * m)\n",
    "    \n",
    "    return J\n",
    "    "
   ]
  },
  {
   "cell_type": "code",
   "execution_count": 7,
   "metadata": {},
   "outputs": [
    {
     "name": "stdout",
     "output_type": "stream",
     "text": [
      "Cost with theta as a matrix with zeros as weights: 32.072733877455676\n",
      "Cost with theta as a matrix with non zeros as weights: 54.24245508201238\n"
     ]
    }
   ],
   "source": [
    "# Test the computeCost Function\n",
    "\n",
    "print(f\"Cost with theta as a matrix with zeros as weights: {compute_cost(X, y, theta)}\")\n",
    "print(f\"Cost with theta as a matrix with non zeros as weights: {compute_cost(X, y, np.array([[-1],[ 2]]))}\")"
   ]
  },
  {
   "cell_type": "markdown",
   "metadata": {},
   "source": [
    "### Gradient Descent"
   ]
  },
  {
   "cell_type": "code",
   "execution_count": 8,
   "metadata": {},
   "outputs": [],
   "source": [
    "def gradient_descent(X, y, theta, learning_rate, num_iterations):\n",
    "    \n",
    "    m = X.shape[0]\n",
    "    costs = np.zeros((num_iterations, 1))\n",
    "    \n",
    "    for i in range(num_iterations):\n",
    "        y_hat = X.dot(theta)\n",
    "        y_diff = y_hat - y\n",
    "    \n",
    "        delta = np.dot(X.T, y_diff) / m\n",
    "    \n",
    "        theta = theta - (learning_rate * delta)\n",
    "        \n",
    "        costs[i] = compute_cost(X, y, theta)\n",
    "    \n",
    "    return {\"theta\": theta, \"costs\": costs}\n",
    "    "
   ]
  },
  {
   "cell_type": "markdown",
   "metadata": {},
   "source": [
    "### Run Gradient Descent"
   ]
  },
  {
   "cell_type": "code",
   "execution_count": 9,
   "metadata": {},
   "outputs": [
    {
     "name": "stdout",
     "output_type": "stream",
     "text": [
      "theta:\n",
      " [[-3.63029144]\n",
      " [ 1.16636235]]\n"
     ]
    },
    {
     "data": {
      "image/png": "[encoded data removed]",
      "text/plain": [
       "<Figure size 432x288 with 1 Axes>"
      ]
     },
     "metadata": {
      "needs_background": "light"
     },
     "output_type": "display_data"
    }
   ],
   "source": [
    "learning_rate = 0.01\n",
    "num_iterations = 1500\n",
    "\n",
    "results = gradient_descent(X, y, theta, learning_rate, num_iterations)\n",
    "costs = results[\"costs\"]\n",
    "\n",
    "print(f\"theta:\\n {results['theta']}\")\n",
    "\n",
    "plt.plot(costs)\n",
    "plt.xlabel(\"Number of Iterations\")\n",
    "plt.ylabel(\"Cost\")\n",
    "plt.show()"
   ]
  },
  {
   "cell_type": "code",
   "execution_count": 10,
   "metadata": {},
   "outputs": [],
   "source": [
    "def best_fit_line(X, y):\n",
    "\n",
    "    xbar = sum(X)/len(X)\n",
    "    ybar = sum(y)/len(y)\n",
    "    n = len(X) \n",
    "\n",
    "    numer = sum(xi*yi for xi,yi in zip(X, y)) - n * xbar * ybar\n",
    "    denum = sum(xi**2 for xi in X) - n * xbar**2\n",
    "\n",
    "    b = numer / denum\n",
    "    a = ybar - b * xbar\n",
    "\n",
    "    #print('best fit line:\\ny = {:.2f} + {:.2f}x'.format(a, b))\n",
    "\n",
    "    return a, b"
   ]
  },
  {
   "cell_type": "code",
   "execution_count": 11,
   "metadata": {},
   "outputs": [
    {
     "data": {
      "image/png": "[encoded data removed]",
      "text/plain": [
       "<Figure size 648x432 with 1 Axes>"
      ]
     },
     "metadata": {
      "needs_background": "light"
     },
     "output_type": "display_data"
    }
   ],
   "source": [
    "# Plot best fitting line\n",
    "\n",
    "y_theta_zeros = np.dot(X, theta)\n",
    "y_pred = np.dot(X, results[\"theta\"])\n",
    "\n",
    "a_real, b_real = best_fit_line(X[:,1], y.reshape(y.shape[0]))\n",
    "a_pred, b_pred = best_fit_line(X[:,1], y_pred.reshape(y_pred.shape[0]))\n",
    "a_theta_z, b_theta_z = best_fit_line(X[:,1], y_theta_zeros.reshape(y_theta_zeros.shape[0]))\n",
    "\n",
    "\n",
    "y_fit_real = [a_real + b_real * xi for xi in X[:,1]]\n",
    "y_fit_pred = [a_pred + b_pred * xi for xi in X[:,1]]\n",
    "y_fit_theta_z = [a_theta_z + b_theta_z * xi for xi in X[:,1]]\n",
    "\n",
    "figure = plt.figure(figsize=(9, 6))\n",
    "plt.scatter(X[:,1].reshape(-1,1), y)\n",
    "plt.plot(X[:,1], y_fit_real, \"g\", label='Training Data')\n",
    "plt.plot(X[:,1], y_fit_pred, \"r\", label='Linear Regression')\n",
    "plt.plot(X[:,1], y_fit_theta_z, \"y\", label='Theta=0')\n",
    "plt.xlabel(\"Population of City in 10,000s\")\n",
    "plt.ylabel(\"Profits in $10,000s\")\n",
    "plt.legend()\n",
    "plt.show()"
   ]
  },
  {
   "cell_type": "code",
   "execution_count": null,
   "metadata": {},
   "outputs": [],
   "source": []
  }
 ],
 "metadata": {
  "kernelspec": {
   "display_name": "Python 3",
   "language": "python",
   "name": "python3"
  },
  "language_info": {
   "codemirror_mode": {
    "name": "ipython",
    "version": 3
   },
   "file_extension": ".py",
   "mimetype": "text/x-python",
   "name": "python",
   "nbconvert_exporter": "python",
   "pygments_lexer": "ipython3",
   "version": "3.8.5"
  }
 },
 "nbformat": 4,
 "nbformat_minor": 4
}
